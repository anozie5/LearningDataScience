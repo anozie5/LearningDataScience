{
 "cells": [
  {
   "cell_type": "markdown",
   "id": "836d69bb-b8c1-473f-979a-0adf032c8c28",
   "metadata": {},
   "source": [
    "# Data Science Tools and Ecosystem"
   ]
  },
  {
   "cell_type": "markdown",
   "id": "b1efa083-3159-4cda-b34b-fd7bb97c33b2",
   "metadata": {},
   "source": [
    "In this notebook, Data Science Tools and Ecosystem are summarized"
   ]
  },
  {
   "cell_type": "markdown",
   "id": "9b2dad66-9863-4f60-9668-52873d37f321",
   "metadata": {},
   "source": [
    "**Objectives**\n",
    "- List of popular languages used by Data Scientists.\n",
    "- List of libraries used by Data Scientists.\n",
    "- List of data science tool."
   ]
  },
  {
   "cell_type": "markdown",
   "id": "aff6e00a-2a45-4d26-97ba-c6fbdef65d39",
   "metadata": {},
   "source": [
    "Some of the popular languages that Data Scientists use are:\n",
    "1. R programming language.\n",
    "2. Python programming language.\n",
    "3. SQL."
   ]
  },
  {
   "cell_type": "markdown",
   "id": "fb5b82c8-acfa-401c-977b-1a770e553f58",
   "metadata": {},
   "source": [
    "Some of the commonly used libraries used by Data Scientists include:\n",
    "- TensorFlow.\n",
    "- Pandas.\n",
    "- PyTorch."
   ]
  },
  {
   "cell_type": "markdown",
   "id": "4936a4cb-6a04-4adb-948b-d721afcee11e",
   "metadata": {},
   "source": [
    "| Data Science Tools |\n",
    "|:---:|\n",
    "|Vs Code|\n",
    "|Jupyter notebook|\n",
    "|Pycharm|\n"
   ]
  },
  {
   "cell_type": "markdown",
   "id": "b05c2ef3-ac4d-493d-a9ae-d03926c44912",
   "metadata": {},
   "source": [
    "### Below are a few examples of evaluating arthimetic expressions in Python"
   ]
  },
  {
   "cell_type": "code",
   "execution_count": 1,
   "id": "182b3558-75ec-4be7-85dd-3db216b23a28",
   "metadata": {
    "tags": []
   },
   "outputs": [
    {
     "data": {
      "text/plain": [
       "17"
      ]
     },
     "execution_count": 1,
     "metadata": {},
     "output_type": "execute_result"
    }
   ],
   "source": [
    "# This is a simple arithematic expression to multiply, then add\n",
    "(3*4)+5"
   ]
  },
  {
   "cell_type": "code",
   "execution_count": 2,
   "id": "0def4c4d-bba7-481b-881c-3527740dde96",
   "metadata": {
    "tags": []
   },
   "outputs": [
    {
     "data": {
      "text/plain": [
       "3.3333333333333335"
      ]
     },
     "execution_count": 2,
     "metadata": {},
     "output_type": "execute_result"
    }
   ],
   "source": [
    "# This will convert 200 minutes to hours by dividing by 60.\n",
    "200/60"
   ]
  },
  {
   "cell_type": "markdown",
   "id": "f10bba6b-8096-4ce9-8c0c-be6ce35e6b69",
   "metadata": {},
   "source": [
    "## Author\n",
    "Anozie Chinemerem E."
   ]
  }
 ],
 "metadata": {
  "kernelspec": {
   "display_name": "Python",
   "language": "python",
   "name": "conda-env-python-py"
  },
  "language_info": {
   "codemirror_mode": {
    "name": "ipython",
    "version": 3
   },
   "file_extension": ".py",
   "mimetype": "text/x-python",
   "name": "python",
   "nbconvert_exporter": "python",
   "pygments_lexer": "ipython3",
   "version": "3.7.12"
  }
 },
 "nbformat": 4,
 "nbformat_minor": 5
}
